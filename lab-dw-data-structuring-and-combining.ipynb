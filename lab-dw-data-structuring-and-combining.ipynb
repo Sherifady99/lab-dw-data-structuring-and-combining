{
  "cells": [
    {
      "cell_type": "markdown",
      "id": "25d7736c-ba17-4aff-b6bb-66eba20fbf4e",
      "metadata": {
        "id": "25d7736c-ba17-4aff-b6bb-66eba20fbf4e"
      },
      "source": [
        "# Lab | Data Structuring and Combining Data"
      ]
    },
    {
      "cell_type": "code",
      "execution_count": 1,
      "id": "aaRwi6uwx409",
      "metadata": {
        "id": "aaRwi6uwx409"
      },
      "outputs": [],
      "source": [
        "import pandas as pd\n",
        "import numpy as np"
      ]
    },
    {
      "cell_type": "markdown",
      "id": "a2cdfc70-44c8-478c-81e7-2bc43fdf4986",
      "metadata": {
        "id": "a2cdfc70-44c8-478c-81e7-2bc43fdf4986"
      },
      "source": [
        "## Challenge 1: Combining & Cleaning Data\n",
        "\n",
        "In this challenge, we will be working with the customer data from an insurance company, as we did in the two previous labs. The data can be found here:\n",
        "- https://raw.githubusercontent.com/data-bootcamp-v4/data/main/file1.csv\n",
        "\n",
        "But this time, we got new data, which can be found in the following 2 CSV files located at the links below.\n",
        "\n",
        "- https://raw.githubusercontent.com/data-bootcamp-v4/data/main/file2.csv\n",
        "- https://raw.githubusercontent.com/data-bootcamp-v4/data/main/file3.csv\n",
        "\n",
        "Note that you'll need to clean and format the new data.\n",
        "\n",
        "Observation:\n",
        "- One option is to first combine the three datasets and then apply the cleaning function to the new combined dataset\n",
        "- Another option would be to read the clean file you saved in the previous lab, and just clean the two new files and concatenate the three clean datasets"
      ]
    },
    {
      "cell_type": "code",
      "execution_count": 14,
      "id": "492d06e3-92c7-4105-ac72-536db98d3244",
      "metadata": {
        "id": "492d06e3-92c7-4105-ac72-536db98d3244"
      },
      "outputs": [],
      "source": [
        "# Reading the 3 files and assigning them to df 1-3\n",
        "\n",
        "df_1 = pd.read_csv('https://raw.githubusercontent.com/data-bootcamp-v4/data/main/file1.csv')\n",
        "df_2 = pd.read_csv('https://raw.githubusercontent.com/data-bootcamp-v4/data/main/file2.csv')\n",
        "df_3 = pd.read_csv('https://raw.githubusercontent.com/data-bootcamp-v4/data/main/file3.csv')"
      ]
    },
    {
      "cell_type": "code",
      "execution_count": null,
      "id": "oNbK5MgR2aoU",
      "metadata": {
        "id": "oNbK5MgR2aoU"
      },
      "outputs": [],
      "source": [
        "# Taking a look at the 3 files:\n",
        "\n",
        "display(df_1.head())\n",
        "display(df_2.head())\n",
        "display(df_3.head())"
      ]
    },
    {
      "cell_type": "code",
      "execution_count": null,
      "id": "tHU0zq022AjA",
      "metadata": {
        "id": "tHU0zq022AjA"
      },
      "outputs": [],
      "source": [
        "# Aligning all column names to be the same before combining\n",
        "\n",
        "df_1.columns = df_1.columns.str.lower().str.replace(\" \", \"_\")\n",
        "df_2.columns = df_2.columns.str.lower().str.replace(\" \", \"_\")\n",
        "df_3.columns = df_3.columns.str.lower().str.replace(\" \", \"_\")\n",
        "df_3.rename(columns = {'state': 'st'}, inplace = True)"
      ]
    },
    {
      "cell_type": "code",
      "execution_count": 34,
      "id": "RlNbidkn6rd1",
      "metadata": {
        "colab": {
          "base_uri": "https://localhost:8080/"
        },
        "id": "RlNbidkn6rd1",
        "outputId": "9a62b8fe-39e6-4cc4-b092-b60ea3a85c3c"
      },
      "outputs": [
        {
          "data": {
            "text/plain": [
              "(12074, 11)"
            ]
          },
          "execution_count": 34,
          "metadata": {},
          "output_type": "execute_result"
        }
      ],
      "source": [
        "df_combined = pd.concat([df_1, df_2, df_3], axis = 0)   # Creating a combined dataset with the 3 files.\n",
        "\n",
        "print(df_1.shape)\n",
        "print(df_2.shape)\n",
        "print(df_3.shape)\n",
        "print(df_combined.shape)  # Making sure that the rows aligned correctly between the 3 datasets."
      ]
    },
    {
      "cell_type": "code",
      "execution_count": null,
      "id": "3INCoFcQ7SGw",
      "metadata": {
        "id": "3INCoFcQ7SGw"
      },
      "outputs": [],
      "source": [
        "# Now to clean up the combined data set\n",
        "\n",
        "def df_clean_up (df_combined):\n",
        "  df_combined['gender'] = df_combined['gender'].replace({'Male': 'M', 'female': 'F', 'Femal': 'F', 'M': 'M'})\n",
        "  df_combined['st'] = df_combined['st'].replace({'Cali': 'California', 'AZ': 'Arizona', 'WA': 'Washington'})\n",
        "  df_combined['education'] = df_combined['education'].replace({'Bachelors': 'Bachelor'})\n",
        "  df_combined['customer_lifetime_value'] = df_combined['customer_lifetime_value'].str.replace('%', '')\n",
        "  return df_combined\n",
        "\n",
        "\n",
        "df_clean_up(df_combined)  # Applying the clean up function to combined dataset"
      ]
    },
    {
      "cell_type": "code",
      "execution_count": null,
      "id": "3wn2g6Qy9lAQ",
      "metadata": {
        "id": "3wn2g6Qy9lAQ"
      },
      "outputs": [],
      "source": [
        "# Dealing with null values\n",
        "\n",
        "df_combined.income.fillna(df_combined.income.mean(), inplace = True)  # Using the average to fill in income values.\n",
        "\n",
        "df_combined = df_combined.dropna(subset=['customer_lifetime_value', 'monthly_premium_auto', 'total_claim_amount'])  # Dropping rows without key numerical values\n",
        "\n",
        "df_combined.gender = df_combined.gender.fillna(df_combined.gender.mode()[0]) # Replacing gender column with the mode to fill in nulls.\n",
        "\n",
        "df_combined.isna().sum() # Confirming there are no null values left\n",
        "\n",
        "df_combined.head()"
      ]
    },
    {
      "cell_type": "markdown",
      "id": "31b8a9e7-7db9-4604-991b-ef6771603e57",
      "metadata": {
        "id": "31b8a9e7-7db9-4604-991b-ef6771603e57"
      },
      "source": [
        "# Challenge 2: Structuring Data"
      ]
    },
    {
      "cell_type": "markdown",
      "id": "a877fd6d-7a0c-46d2-9657-f25036e4ca4b",
      "metadata": {
        "id": "a877fd6d-7a0c-46d2-9657-f25036e4ca4b"
      },
      "source": [
        "In this challenge, we will continue to work with customer data from an insurance company, but we will use a dataset with more columns, called marketing_customer_analysis.csv, which can be found at the following link:\n",
        "\n",
        "https://raw.githubusercontent.com/data-bootcamp-v4/data/main/marketing_customer_analysis_clean.csv\n",
        "\n",
        "This dataset contains information such as customer demographics, policy details, vehicle information, and the customer's response to the last marketing campaign. Our goal is to explore and analyze this data by performing data cleaning, formatting, and structuring."
      ]
    },
    {
      "cell_type": "code",
      "execution_count": 57,
      "id": "aa10d9b0-1c27-4d3f-a8e4-db6ab73bfd26",
      "metadata": {
        "colab": {
          "base_uri": "https://localhost:8080/"
        },
        "id": "aa10d9b0-1c27-4d3f-a8e4-db6ab73bfd26",
        "outputId": "512ca859-d871-4739-f720-2b14e4b84a37"
      },
      "outputs": [
        {
          "data": {
            "text/plain": [
              "Index(['unnamed:_0', 'customer', 'state', 'customer_lifetime_value',\n",
              "       'response', 'coverage', 'education', 'effective_to_date',\n",
              "       'employmentstatus', 'gender', 'income', 'location_code',\n",
              "       'marital_status', 'monthly_premium_auto', 'months_since_last_claim',\n",
              "       'months_since_policy_inception', 'number_of_open_complaints',\n",
              "       'number_of_policies', 'policy_type', 'policy', 'renew_offer_type',\n",
              "       'sales_channel', 'total_claim_amount', 'vehicle_class', 'vehicle_size',\n",
              "       'vehicle_type', 'month'],\n",
              "      dtype='object')"
            ]
          },
          "execution_count": 57,
          "metadata": {},
          "output_type": "execute_result"
        }
      ],
      "source": [
        "df_marketing = pd.read_csv('https://raw.githubusercontent.com/data-bootcamp-v4/data/main/marketing_customer_analysis_clean.csv')\n",
        "\n",
        "df_marketing.columns"
      ]
    },
    {
      "cell_type": "markdown",
      "id": "df35fd0d-513e-4e77-867e-429da10a9cc7",
      "metadata": {
        "id": "df35fd0d-513e-4e77-867e-429da10a9cc7"
      },
      "source": [
        "1. You work at the marketing department and you want to know which sales channel brought the most sales in terms of total revenue. Using pivot, create a summary table showing the total revenue for each sales channel (branch, call center, web, and mail).\n",
        "Round the total revenue to 2 decimal points.  Analyze the resulting table to draw insights."
      ]
    },
    {
      "cell_type": "code",
      "execution_count": 54,
      "id": "eMW2sX7I-5Bk",
      "metadata": {
        "colab": {
          "base_uri": "https://localhost:8080/",
          "height": 206
        },
        "id": "eMW2sX7I-5Bk",
        "outputId": "1a3fce25-3033-408a-c786-29e1a157ad8d"
      },
      "outputs": [
        {
          "data": {
            "application/vnd.google.colaboratory.intrinsic+json": {
              "summary": "{\n  \"name\": \"sales_channels\",\n  \"rows\": 4,\n  \"fields\": [\n    {\n      \"column\": \"sales_channel\",\n      \"properties\": {\n        \"dtype\": \"string\",\n        \"num_unique_values\": 4,\n        \"samples\": [\n          \"Branch\",\n          \"Web\",\n          \"Agent\"\n        ],\n        \"semantic_type\": \"\",\n        \"description\": \"\"\n      }\n    },\n    {\n      \"column\": \"total_claim_amount\",\n      \"properties\": {\n        \"dtype\": \"number\",\n        \"std\": 483060.81083754555,\n        \"min\": 706600.04,\n        \"max\": 1810226.82,\n        \"num_unique_values\": 4,\n        \"samples\": [\n          1301204.0,\n          706600.04,\n          1810226.82\n        ],\n        \"semantic_type\": \"\",\n        \"description\": \"\"\n      }\n    }\n  ]\n}",
              "type": "dataframe",
              "variable_name": "sales_channels"
            },
            "text/html": [
              "\n",
              "  <div id=\"df-18e9e8ba-2a07-4c7d-abe7-ef2989b3247f\" class=\"colab-df-container\">\n",
              "    <div>\n",
              "<style scoped>\n",
              "    .dataframe tbody tr th:only-of-type {\n",
              "        vertical-align: middle;\n",
              "    }\n",
              "\n",
              "    .dataframe tbody tr th {\n",
              "        vertical-align: top;\n",
              "    }\n",
              "\n",
              "    .dataframe thead th {\n",
              "        text-align: right;\n",
              "    }\n",
              "</style>\n",
              "<table border=\"1\" class=\"dataframe\">\n",
              "  <thead>\n",
              "    <tr style=\"text-align: right;\">\n",
              "      <th></th>\n",
              "      <th>total_claim_amount</th>\n",
              "    </tr>\n",
              "    <tr>\n",
              "      <th>sales_channel</th>\n",
              "      <th></th>\n",
              "    </tr>\n",
              "  </thead>\n",
              "  <tbody>\n",
              "    <tr>\n",
              "      <th>Agent</th>\n",
              "      <td>1810226.82</td>\n",
              "    </tr>\n",
              "    <tr>\n",
              "      <th>Branch</th>\n",
              "      <td>1301204.00</td>\n",
              "    </tr>\n",
              "    <tr>\n",
              "      <th>Call Center</th>\n",
              "      <td>926600.82</td>\n",
              "    </tr>\n",
              "    <tr>\n",
              "      <th>Web</th>\n",
              "      <td>706600.04</td>\n",
              "    </tr>\n",
              "  </tbody>\n",
              "</table>\n",
              "</div>\n",
              "    <div class=\"colab-df-buttons\">\n",
              "\n",
              "  <div class=\"colab-df-container\">\n",
              "    <button class=\"colab-df-convert\" onclick=\"convertToInteractive('df-18e9e8ba-2a07-4c7d-abe7-ef2989b3247f')\"\n",
              "            title=\"Convert this dataframe to an interactive table.\"\n",
              "            style=\"display:none;\">\n",
              "\n",
              "  <svg xmlns=\"http://www.w3.org/2000/svg\" height=\"24px\" viewBox=\"0 -960 960 960\">\n",
              "    <path d=\"M120-120v-720h720v720H120Zm60-500h600v-160H180v160Zm220 220h160v-160H400v160Zm0 220h160v-160H400v160ZM180-400h160v-160H180v160Zm440 0h160v-160H620v160ZM180-180h160v-160H180v160Zm440 0h160v-160H620v160Z\"/>\n",
              "  </svg>\n",
              "    </button>\n",
              "\n",
              "  <style>\n",
              "    .colab-df-container {\n",
              "      display:flex;\n",
              "      gap: 12px;\n",
              "    }\n",
              "\n",
              "    .colab-df-convert {\n",
              "      background-color: #E8F0FE;\n",
              "      border: none;\n",
              "      border-radius: 50%;\n",
              "      cursor: pointer;\n",
              "      display: none;\n",
              "      fill: #1967D2;\n",
              "      height: 32px;\n",
              "      padding: 0 0 0 0;\n",
              "      width: 32px;\n",
              "    }\n",
              "\n",
              "    .colab-df-convert:hover {\n",
              "      background-color: #E2EBFA;\n",
              "      box-shadow: 0px 1px 2px rgba(60, 64, 67, 0.3), 0px 1px 3px 1px rgba(60, 64, 67, 0.15);\n",
              "      fill: #174EA6;\n",
              "    }\n",
              "\n",
              "    .colab-df-buttons div {\n",
              "      margin-bottom: 4px;\n",
              "    }\n",
              "\n",
              "    [theme=dark] .colab-df-convert {\n",
              "      background-color: #3B4455;\n",
              "      fill: #D2E3FC;\n",
              "    }\n",
              "\n",
              "    [theme=dark] .colab-df-convert:hover {\n",
              "      background-color: #434B5C;\n",
              "      box-shadow: 0px 1px 3px 1px rgba(0, 0, 0, 0.15);\n",
              "      filter: drop-shadow(0px 1px 2px rgba(0, 0, 0, 0.3));\n",
              "      fill: #FFFFFF;\n",
              "    }\n",
              "  </style>\n",
              "\n",
              "    <script>\n",
              "      const buttonEl =\n",
              "        document.querySelector('#df-18e9e8ba-2a07-4c7d-abe7-ef2989b3247f button.colab-df-convert');\n",
              "      buttonEl.style.display =\n",
              "        google.colab.kernel.accessAllowed ? 'block' : 'none';\n",
              "\n",
              "      async function convertToInteractive(key) {\n",
              "        const element = document.querySelector('#df-18e9e8ba-2a07-4c7d-abe7-ef2989b3247f');\n",
              "        const dataTable =\n",
              "          await google.colab.kernel.invokeFunction('convertToInteractive',\n",
              "                                                    [key], {});\n",
              "        if (!dataTable) return;\n",
              "\n",
              "        const docLinkHtml = 'Like what you see? Visit the ' +\n",
              "          '<a target=\"_blank\" href=https://colab.research.google.com/notebooks/data_table.ipynb>data table notebook</a>'\n",
              "          + ' to learn more about interactive tables.';\n",
              "        element.innerHTML = '';\n",
              "        dataTable['output_type'] = 'display_data';\n",
              "        await google.colab.output.renderOutput(dataTable, element);\n",
              "        const docLink = document.createElement('div');\n",
              "        docLink.innerHTML = docLinkHtml;\n",
              "        element.appendChild(docLink);\n",
              "      }\n",
              "    </script>\n",
              "  </div>\n",
              "\n",
              "\n",
              "<div id=\"df-caa77f25-cf55-48b8-8da3-6eac2f21c1b1\">\n",
              "  <button class=\"colab-df-quickchart\" onclick=\"quickchart('df-caa77f25-cf55-48b8-8da3-6eac2f21c1b1')\"\n",
              "            title=\"Suggest charts\"\n",
              "            style=\"display:none;\">\n",
              "\n",
              "<svg xmlns=\"http://www.w3.org/2000/svg\" height=\"24px\"viewBox=\"0 0 24 24\"\n",
              "     width=\"24px\">\n",
              "    <g>\n",
              "        <path d=\"M19 3H5c-1.1 0-2 .9-2 2v14c0 1.1.9 2 2 2h14c1.1 0 2-.9 2-2V5c0-1.1-.9-2-2-2zM9 17H7v-7h2v7zm4 0h-2V7h2v10zm4 0h-2v-4h2v4z\"/>\n",
              "    </g>\n",
              "</svg>\n",
              "  </button>\n",
              "\n",
              "<style>\n",
              "  .colab-df-quickchart {\n",
              "      --bg-color: #E8F0FE;\n",
              "      --fill-color: #1967D2;\n",
              "      --hover-bg-color: #E2EBFA;\n",
              "      --hover-fill-color: #174EA6;\n",
              "      --disabled-fill-color: #AAA;\n",
              "      --disabled-bg-color: #DDD;\n",
              "  }\n",
              "\n",
              "  [theme=dark] .colab-df-quickchart {\n",
              "      --bg-color: #3B4455;\n",
              "      --fill-color: #D2E3FC;\n",
              "      --hover-bg-color: #434B5C;\n",
              "      --hover-fill-color: #FFFFFF;\n",
              "      --disabled-bg-color: #3B4455;\n",
              "      --disabled-fill-color: #666;\n",
              "  }\n",
              "\n",
              "  .colab-df-quickchart {\n",
              "    background-color: var(--bg-color);\n",
              "    border: none;\n",
              "    border-radius: 50%;\n",
              "    cursor: pointer;\n",
              "    display: none;\n",
              "    fill: var(--fill-color);\n",
              "    height: 32px;\n",
              "    padding: 0;\n",
              "    width: 32px;\n",
              "  }\n",
              "\n",
              "  .colab-df-quickchart:hover {\n",
              "    background-color: var(--hover-bg-color);\n",
              "    box-shadow: 0 1px 2px rgba(60, 64, 67, 0.3), 0 1px 3px 1px rgba(60, 64, 67, 0.15);\n",
              "    fill: var(--button-hover-fill-color);\n",
              "  }\n",
              "\n",
              "  .colab-df-quickchart-complete:disabled,\n",
              "  .colab-df-quickchart-complete:disabled:hover {\n",
              "    background-color: var(--disabled-bg-color);\n",
              "    fill: var(--disabled-fill-color);\n",
              "    box-shadow: none;\n",
              "  }\n",
              "\n",
              "  .colab-df-spinner {\n",
              "    border: 2px solid var(--fill-color);\n",
              "    border-color: transparent;\n",
              "    border-bottom-color: var(--fill-color);\n",
              "    animation:\n",
              "      spin 1s steps(1) infinite;\n",
              "  }\n",
              "\n",
              "  @keyframes spin {\n",
              "    0% {\n",
              "      border-color: transparent;\n",
              "      border-bottom-color: var(--fill-color);\n",
              "      border-left-color: var(--fill-color);\n",
              "    }\n",
              "    20% {\n",
              "      border-color: transparent;\n",
              "      border-left-color: var(--fill-color);\n",
              "      border-top-color: var(--fill-color);\n",
              "    }\n",
              "    30% {\n",
              "      border-color: transparent;\n",
              "      border-left-color: var(--fill-color);\n",
              "      border-top-color: var(--fill-color);\n",
              "      border-right-color: var(--fill-color);\n",
              "    }\n",
              "    40% {\n",
              "      border-color: transparent;\n",
              "      border-right-color: var(--fill-color);\n",
              "      border-top-color: var(--fill-color);\n",
              "    }\n",
              "    60% {\n",
              "      border-color: transparent;\n",
              "      border-right-color: var(--fill-color);\n",
              "    }\n",
              "    80% {\n",
              "      border-color: transparent;\n",
              "      border-right-color: var(--fill-color);\n",
              "      border-bottom-color: var(--fill-color);\n",
              "    }\n",
              "    90% {\n",
              "      border-color: transparent;\n",
              "      border-bottom-color: var(--fill-color);\n",
              "    }\n",
              "  }\n",
              "</style>\n",
              "\n",
              "  <script>\n",
              "    async function quickchart(key) {\n",
              "      const quickchartButtonEl =\n",
              "        document.querySelector('#' + key + ' button');\n",
              "      quickchartButtonEl.disabled = true;  // To prevent multiple clicks.\n",
              "      quickchartButtonEl.classList.add('colab-df-spinner');\n",
              "      try {\n",
              "        const charts = await google.colab.kernel.invokeFunction(\n",
              "            'suggestCharts', [key], {});\n",
              "      } catch (error) {\n",
              "        console.error('Error during call to suggestCharts:', error);\n",
              "      }\n",
              "      quickchartButtonEl.classList.remove('colab-df-spinner');\n",
              "      quickchartButtonEl.classList.add('colab-df-quickchart-complete');\n",
              "    }\n",
              "    (() => {\n",
              "      let quickchartButtonEl =\n",
              "        document.querySelector('#df-caa77f25-cf55-48b8-8da3-6eac2f21c1b1 button');\n",
              "      quickchartButtonEl.style.display =\n",
              "        google.colab.kernel.accessAllowed ? 'block' : 'none';\n",
              "    })();\n",
              "  </script>\n",
              "</div>\n",
              "\n",
              "  <div id=\"id_17414f6d-3ea6-4211-8fba-9c681d190d3a\">\n",
              "    <style>\n",
              "      .colab-df-generate {\n",
              "        background-color: #E8F0FE;\n",
              "        border: none;\n",
              "        border-radius: 50%;\n",
              "        cursor: pointer;\n",
              "        display: none;\n",
              "        fill: #1967D2;\n",
              "        height: 32px;\n",
              "        padding: 0 0 0 0;\n",
              "        width: 32px;\n",
              "      }\n",
              "\n",
              "      .colab-df-generate:hover {\n",
              "        background-color: #E2EBFA;\n",
              "        box-shadow: 0px 1px 2px rgba(60, 64, 67, 0.3), 0px 1px 3px 1px rgba(60, 64, 67, 0.15);\n",
              "        fill: #174EA6;\n",
              "      }\n",
              "\n",
              "      [theme=dark] .colab-df-generate {\n",
              "        background-color: #3B4455;\n",
              "        fill: #D2E3FC;\n",
              "      }\n",
              "\n",
              "      [theme=dark] .colab-df-generate:hover {\n",
              "        background-color: #434B5C;\n",
              "        box-shadow: 0px 1px 3px 1px rgba(0, 0, 0, 0.15);\n",
              "        filter: drop-shadow(0px 1px 2px rgba(0, 0, 0, 0.3));\n",
              "        fill: #FFFFFF;\n",
              "      }\n",
              "    </style>\n",
              "    <button class=\"colab-df-generate\" onclick=\"generateWithVariable('sales_channels')\"\n",
              "            title=\"Generate code using this dataframe.\"\n",
              "            style=\"display:none;\">\n",
              "\n",
              "  <svg xmlns=\"http://www.w3.org/2000/svg\" height=\"24px\"viewBox=\"0 0 24 24\"\n",
              "       width=\"24px\">\n",
              "    <path d=\"M7,19H8.4L18.45,9,17,7.55,7,17.6ZM5,21V16.75L18.45,3.32a2,2,0,0,1,2.83,0l1.4,1.43a1.91,1.91,0,0,1,.58,1.4,1.91,1.91,0,0,1-.58,1.4L9.25,21ZM18.45,9,17,7.55Zm-12,3A5.31,5.31,0,0,0,4.9,8.1,5.31,5.31,0,0,0,1,6.5,5.31,5.31,0,0,0,4.9,4.9,5.31,5.31,0,0,0,6.5,1,5.31,5.31,0,0,0,8.1,4.9,5.31,5.31,0,0,0,12,6.5,5.46,5.46,0,0,0,6.5,12Z\"/>\n",
              "  </svg>\n",
              "    </button>\n",
              "    <script>\n",
              "      (() => {\n",
              "      const buttonEl =\n",
              "        document.querySelector('#id_17414f6d-3ea6-4211-8fba-9c681d190d3a button.colab-df-generate');\n",
              "      buttonEl.style.display =\n",
              "        google.colab.kernel.accessAllowed ? 'block' : 'none';\n",
              "\n",
              "      buttonEl.onclick = () => {\n",
              "        google.colab.notebook.generateWithVariable('sales_channels');\n",
              "      }\n",
              "      })();\n",
              "    </script>\n",
              "  </div>\n",
              "\n",
              "    </div>\n",
              "  </div>\n"
            ],
            "text/plain": [
              "               total_claim_amount\n",
              "sales_channel                    \n",
              "Agent                  1810226.82\n",
              "Branch                 1301204.00\n",
              "Call Center             926600.82\n",
              "Web                     706600.04"
            ]
          },
          "execution_count": 54,
          "metadata": {},
          "output_type": "execute_result"
        }
      ],
      "source": [
        "sales_channels = df_marketing.pivot_table(index=\"sales_channel\", values=\"total_claim_amount\", aggfunc=\"sum\").round(2)\n",
        "sales_channels"
      ]
    },
    {
      "cell_type": "markdown",
      "id": "640993b2-a291-436c-a34d-a551144f8196",
      "metadata": {
        "id": "640993b2-a291-436c-a34d-a551144f8196"
      },
      "source": [
        "2. Create a pivot table that shows the average customer lifetime value per gender and education level. Analyze the resulting table to draw insights."
      ]
    },
    {
      "cell_type": "code",
      "execution_count": null,
      "id": "-m7cr6sZ_rXs",
      "metadata": {
        "id": "-m7cr6sZ_rXs"
      },
      "outputs": [],
      "source": [
        "avg_customer_value = df_marketing.pivot_table(index=[\"gender\", \"education\"], values=\"customer_lifetime_value\", aggfunc=\"mean\").round(2)\n",
        "avg_customer_value"
      ]
    },
    {
      "cell_type": "markdown",
      "id": "32c7f2e5-3d90-43e5-be33-9781b6069198",
      "metadata": {
        "id": "32c7f2e5-3d90-43e5-be33-9781b6069198"
      },
      "source": [
        "## Bonus\n",
        "\n",
        "You work at the customer service department and you want to know which months had the highest number of complaints by policy type category. Create a summary table showing the number of complaints by policy type and month.\n",
        "Show it in a long format table."
      ]
    },
    {
      "cell_type": "markdown",
      "id": "e3d09a8f-953c-448a-a5f8-2e5a8cca7291",
      "metadata": {
        "id": "e3d09a8f-953c-448a-a5f8-2e5a8cca7291"
      },
      "source": [
        "*In data analysis, a long format table is a way of structuring data in which each observation or measurement is stored in a separate row of the table. The key characteristic of a long format table is that each column represents a single variable, and each row represents a single observation of that variable.*\n",
        "\n",
        "*More information about long and wide format tables here: https://www.statology.org/long-vs-wide-data/*"
      ]
    },
    {
      "cell_type": "code",
      "execution_count": null,
      "id": "3a069e0b-b400-470e-904d-d17582191be4",
      "metadata": {
        "id": "3a069e0b-b400-470e-904d-d17582191be4"
      },
      "outputs": [],
      "source": [
        "customer_complaints = df_marketing.pivot_table(index =['month', 'policy_type'], values = 'number_of_open_complaints', aggfunc='sum').round(0)\n",
        "customer_complaints"
      ]
    }
  ],
  "metadata": {
    "colab": {
      "provenance": []
    },
    "kernelspec": {
      "display_name": "Python 3 (ipykernel)",
      "language": "python",
      "name": "python3"
    },
    "language_info": {
      "codemirror_mode": {
        "name": "ipython",
        "version": 3
      },
      "file_extension": ".py",
      "mimetype": "text/x-python",
      "name": "python",
      "nbconvert_exporter": "python",
      "pygments_lexer": "ipython3",
      "version": "3.9.13"
    }
  },
  "nbformat": 4,
  "nbformat_minor": 5
}
